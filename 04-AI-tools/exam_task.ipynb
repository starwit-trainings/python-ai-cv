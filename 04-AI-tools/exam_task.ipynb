{
 "cells": [
  {
   "cell_type": "markdown",
   "metadata": {},
   "source": [
    "# Test your knowledge\n",
    "\n",
    "In order to create a custom model the following steps are necessary:\n",
    "* Label your assigned project\n",
    "* Download label data & video\n",
    "* Split video in individual frames [hint](https://github.com/starwit-trainings/python-ai-cv/blob/main/04-AI-tools/02-pytorch-examples/03a-convert-labelstudio-export-to-yolo-dataset.py)\n",
    "* Create a training set structure - see uploaded sample \n",
    "* Train using this [script](02-pytorch-examples/03-ultralytics-training.py) - adapt file location\n",
    "* apply trained model using this [script](01-introduction-example/02-yolo-example.py) and create an annotated output video\n",
    "* Example video can be taken from student upload area (Canvas in Aalen)\n",
    "* upload trained model and output video into a GIT repository (not generated training data)\n",
    "* Add a readme to your repository and explain what you did and how to use your files\n",
    "* send mail to instructor"
   ]
  },
  {
   "cell_type": "markdown",
   "metadata": {},
   "source": [
    "## Tips and Tricks\n",
    "TODO"
   ]
  },
  {
   "cell_type": "markdown",
   "metadata": {},
   "source": [
    "# Quality & Evaluation Criteria\n",
    "* Only readme in your repo will be used, to understand what you did\n",
    "* Writing style is not important, but all necessary steps needs to be present\n",
    "* All used code needs to be present in your Git repo\n",
    "* All uploaded files should follow a common naming structure\n",
    "* Files should be ordered in an appropriate folder structure (e.g. data, src, doc)\n",
    "* For your project, I need a labeled video in Label Studio instance. Please add link to your readme.\n",
    "* Missing artifacts are a problem!"
   ]
  }
 ],
 "metadata": {
  "kernelspec": {
   "display_name": "Python 3",
   "language": "python",
   "name": "python3"
  },
  "language_info": {
   "codemirror_mode": {
    "name": "ipython",
    "version": 3
   },
   "file_extension": ".py",
   "mimetype": "text/x-python",
   "name": "python",
   "nbconvert_exporter": "python",
   "pygments_lexer": "ipython3",
   "version": "3.12.4"
  }
 },
 "nbformat": 4,
 "nbformat_minor": 2
}
