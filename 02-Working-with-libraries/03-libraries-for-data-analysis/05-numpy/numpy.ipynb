{
 "cells": [
  {
   "cell_type": "markdown",
   "metadata": {},
   "source": [
    "# Tasks\n",
    "\n",
    "* Use Numpy to get\n",
    "    * smallest, largest response values\n",
    "    * mean response time\n",
    "* run measurement function more than once and add values to existing Numpy array, run above tasks again"
   ]
  },
  {
   "cell_type": "code",
   "execution_count": 5,
   "metadata": {},
   "outputs": [],
   "source": [
    "from datetime import datetime\n",
    "import requests\n",
    "import numpy as np\n",
    "\n",
    "url = \"http://heise.de\"\n",
    "\n",
    "def measureResponseTimes(url, attempts):\n",
    "    timeticks = []\n",
    "    values = []\n",
    "    result = {}\n",
    "\n",
    "    for i in range(attempts):\n",
    "        response = requests.post(url)\n",
    "        timeticks.append(datetime.now())\n",
    "        values.append(response.elapsed.total_seconds()) \n",
    "    result[\"timeticks\"] = timeticks\n",
    "    result[\"values\"] = values\n",
    "    return result\n",
    "\n",
    "result = measureResponseTimes(url, 10)\n",
    "myArray = np.array(result[\"values\"])"
   ]
  },
  {
   "cell_type": "markdown",
   "metadata": {},
   "source": [
    "# Outlook - Numpy and Images\n",
    "Images are pixel arrays and thus Numpy can be used to manipulate images.\n",
    "\n",
    "## Load image\n",
    "We use library __imageio__ to load logo PNG file and display image. Function [imread](https://imageio.readthedocs.io/en/v2.16.1/_autosummary/imageio.imread.html) returns images as a Numpy array."
   ]
  },
  {
   "cell_type": "code",
   "execution_count": null,
   "metadata": {},
   "outputs": [],
   "source": [
    "import imageio\n",
    "import matplotlib.pyplot as plt\n",
    "# Reading the image\n",
    "img = imageio.imread('../../imgs/starwit.png') \n",
    "# Displaying the image\n",
    "plt.imshow(img)\n",
    "plt.axis('off')\n",
    "plt.show() \n"
   ]
  },
  {
   "cell_type": "markdown",
   "metadata": {},
   "source": [
    "## Grayscale\n",
    "Following code converts image into grayscale. This is possible as from now on, we can work on a Numpy array."
   ]
  },
  {
   "cell_type": "code",
   "execution_count": null,
   "metadata": {},
   "outputs": [],
   "source": [
    "gray_img = img.mean(axis=2)\n",
    "plt.imshow(gray_img, cmap='gray')\n",
    "plt.axis('off')\n",
    "plt.show()"
   ]
  },
  {
   "cell_type": "markdown",
   "metadata": {},
   "source": [
    "## Find edges\n",
    "\n",
    "With gray scale images it is much easier to detect edges. Following code uses SciPy's [convolve](https://docs.scipy.org/doc/scipy/reference/generated/scipy.ndimage.convolve.html) function which runs a [Sobel](https://en.wikipedia.org/wiki/Sobel_operator) kernel (provided as another Numpy array) over a 2-dimensional array. Gist of this operation is to detect rapid changes in intensity.\n",
    "\n",
    "Next step is to use function [hypot](https://numpy.org/doc/stable/reference/generated/numpy.hypot.html) from Numpy library to compute array with edges."
   ]
  },
  {
   "cell_type": "code",
   "execution_count": null,
   "metadata": {},
   "outputs": [],
   "source": [
    "from scipy import ndimage\n",
    "import numpy as np\n",
    "\n",
    "# Sobel kernels\n",
    "sobel_x = np.array([[-1, 0, 1], [-2, 0, 2], [-1, 0, 1]])\n",
    "sobel_y = np.array([[1, 2, 1], [0, 0, 0], [-1, -2, -1]])\n",
    "\n",
    "# Apply Sobel operator\n",
    "out_x = ndimage.convolve(gray_img, sobel_x)\n",
    "out_y = ndimage.convolve(gray_img, sobel_y)\n",
    "\n",
    "# Calculate magnitude of gradients\n",
    "edge_img = np.hypot(out_x, out_y)\n",
    "plt.imshow(edge_img, cmap='gray')\n",
    "plt.axis('off')\n",
    "plt.show()"
   ]
  }
 ],
 "metadata": {
  "kernelspec": {
   "display_name": "Python 3",
   "language": "python",
   "name": "python3"
  },
  "language_info": {
   "codemirror_mode": {
    "name": "ipython",
    "version": 3
   },
   "file_extension": ".py",
   "mimetype": "text/x-python",
   "name": "python",
   "nbconvert_exporter": "python",
   "pygments_lexer": "ipython3",
   "version": "3.11.6"
  }
 },
 "nbformat": 4,
 "nbformat_minor": 2
}
