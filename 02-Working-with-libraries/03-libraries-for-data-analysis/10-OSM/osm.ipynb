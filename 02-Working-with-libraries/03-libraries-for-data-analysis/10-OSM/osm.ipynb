{
 "cells": [
  {
   "cell_type": "markdown",
   "metadata": {},
   "source": [
    "# Putting data on a map - OpenStreetMap\n",
    "\n",
    "Quite often it is necessary to display data on a map. So this example shows, how to display a map in Jupyter and how to add some data. We will use OpenStreetMap libs and documentation can be found [here](https://ipyleaflet.readthedocs.io/en/latest/). "
   ]
  },
  {
   "cell_type": "markdown",
   "metadata": {},
   "source": [
    "## Examples for map types\n",
    "\n",
    "### Standard OSM map\n",
    "Following example shows a standard map centered around a given set of coordinates."
   ]
  },
  {
   "cell_type": "code",
   "execution_count": null,
   "metadata": {},
   "outputs": [],
   "source": [
    "from ipyleaflet import Map, Marker\n",
    "\n",
    "INIT_CENTER = (48.8384500,10.0748000)\n",
    "\n",
    "m = Map(center=INIT_CENTER, zoom=19)\n",
    "\n",
    "marker_center = (48.8384900,10.0741000)\n",
    "marker = Marker(location=marker_center, draggable=True, title=\"You are here\")\n",
    "m.add(marker);\n",
    "display(m)\n"
   ]
  },
  {
   "cell_type": "markdown",
   "metadata": {},
   "source": [
    "### Satellite Images\n",
    "Next example show a map using imagery from satellites as background."
   ]
  },
  {
   "cell_type": "code",
   "execution_count": null,
   "metadata": {},
   "outputs": [],
   "source": [
    "from ipyleaflet import Map, basemaps, basemap_to_tiles\n",
    "\n",
    "m = Map(\n",
    "    basemap=basemap_to_tiles(basemaps.NASAGIBS.ModisTerraTrueColorCR, \"2017-04-08\"),\n",
    "    center=(48.8374744,10.0748506),\n",
    "    zoom=10\n",
    ")\n",
    "\n",
    "m"
   ]
  },
  {
   "cell_type": "markdown",
   "metadata": {},
   "source": [
    "# Placing info on a map\n",
    "The following example tries to resolve IP addresses of a list of URLs and get the position of those via geo location. "
   ]
  },
  {
   "cell_type": "code",
   "execution_count": null,
   "metadata": {},
   "outputs": [],
   "source": [
    "import dns.resolver\n",
    "\n",
    "urls = [\n",
    "    \"worldtimeapi.org\",\n",
    "    \"google.com\",\n",
    "    \"heise.de\"\n",
    "]\n",
    "\n",
    "resolver = dns.resolver.Resolver()\n",
    "resolver.nameservers = ['8.8.8.8']\n",
    "\n",
    "for url in urls:\n",
    "    # Query for the A record of the domain\n",
    "    answer = resolver.resolve(url, 'A')\n",
    "    # Print the result\n",
    "    for ip in answer:\n",
    "        print(f\"{url} has address {ip}\")\n",
    "\n",
    "import requests\n",
    "\n",
    "response = requests.get(\"https://geolocation-db.com/json/213.188.196.246&position=true\").json()\n",
    "response"
   ]
  },
  {
   "cell_type": "markdown",
   "metadata": {},
   "source": [
    "# Task\n",
    "* extract IPs via DNS resolve\n",
    "* create a map and put a marker for each address\n",
    "* choose an appropriate zoom/center combination, such that all markers are visible "
   ]
  }
 ],
 "metadata": {
  "kernelspec": {
   "display_name": ".venv",
   "language": "python",
   "name": "python3"
  },
  "language_info": {
   "codemirror_mode": {
    "name": "ipython",
    "version": 3
   },
   "file_extension": ".py",
   "mimetype": "text/x-python",
   "name": "python",
   "nbconvert_exporter": "python",
   "pygments_lexer": "ipython3",
   "version": "3.11.6"
  }
 },
 "nbformat": 4,
 "nbformat_minor": 2
}
